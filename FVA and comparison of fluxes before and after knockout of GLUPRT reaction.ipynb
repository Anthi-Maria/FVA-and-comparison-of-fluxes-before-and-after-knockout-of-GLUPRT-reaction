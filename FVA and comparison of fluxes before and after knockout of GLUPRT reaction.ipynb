{
 "cells": [
  {
   "cell_type": "code",
   "execution_count": 9,
   "id": "green-belgium",
   "metadata": {},
   "outputs": [],
   "source": [
    "import numpy as np\n",
    "import pandas as pd\n",
    "import cobra.test\n",
    "import os\n",
    "\n",
    "from os.path import join\n",
    "\n",
    "from time import time\n",
    "\n",
    "\n",
    "from cobra.flux_analysis import (\n",
    "    single_gene_deletion, single_reaction_deletion, double_gene_deletion,\n",
    "    double_reaction_deletion)\n",
    "\n",
    "a = cobra.io.read_sbml_model(\"iEC1344_C.xml\")"
   ]
  },
  {
   "cell_type": "code",
   "execution_count": 11,
   "id": "combined-quality",
   "metadata": {},
   "outputs": [],
   "source": [
    "from cobra.flux_analysis import flux_variability_analysis\n",
    "\n",
    "b= flux_variability_analysis(a, a.reactions)"
   ]
  },
  {
   "cell_type": "code",
   "execution_count": 6,
   "id": "vertical-glucose",
   "metadata": {},
   "outputs": [
    {
     "data": {
      "text/html": [
       "\n",
       "        <table>\n",
       "            <tr>\n",
       "                <td><strong>Reaction identifier</strong></td><td>GLUPRT</td>\n",
       "            </tr><tr>\n",
       "                <td><strong>Name</strong></td><td>Glutamine phosphoribosyldiphosphate amidotransferase</td>\n",
       "            </tr><tr>\n",
       "                <td><strong>Memory address</strong></td>\n",
       "                <td>0x07fc39ab69c40</td>\n",
       "            </tr><tr>\n",
       "                <td><strong>Stoichiometry</strong></td>\n",
       "                <td>\n",
       "                    <p style='text-align:right'>gln__L_c + h2o_c + prpp_c --> glu__L_c + ppi_c + pram_c</p>\n",
       "                    <p style='text-align:right'>L-Glutamine + H2O H2O + 5-Phospho-alpha-D-ribose 1-diphosphate --> L-Glutamate + Diphosphate + 5-Phospho-beta-D-ribosylamine</p>\n",
       "                </td>\n",
       "            </tr><tr>\n",
       "                <td><strong>GPR</strong></td><td>locus_1313</td>\n",
       "            </tr><tr>\n",
       "                <td><strong>Lower bound</strong></td><td>0</td>\n",
       "            </tr><tr>\n",
       "                <td><strong>Upper bound</strong></td><td>0</td>\n",
       "            </tr>\n",
       "        </table>\n",
       "        "
      ],
      "text/plain": [
       "<Reaction GLUPRT at 0x7fc39ab69c40>"
      ]
     },
     "execution_count": 6,
     "metadata": {},
     "output_type": "execute_result"
    }
   ],
   "source": [
    "a.reactions.GLUPRT.upper_bound= a.reactions.GLUPRT.lower_bound=0\n",
    "a.reactions.get_by_id(\"GLUPRT\")"
   ]
  },
  {
   "cell_type": "code",
   "execution_count": 7,
   "id": "existing-romantic",
   "metadata": {},
   "outputs": [],
   "source": [
    "from cobra.flux_analysis import flux_variability_analysis\n",
    "\n",
    "c= flux_variability_analysis(a, a.reactions)"
   ]
  },
  {
   "cell_type": "code",
   "execution_count": 8,
   "id": "successful-state",
   "metadata": {},
   "outputs": [
    {
     "name": "stdout",
     "output_type": "stream",
     "text": [
      "             minimum  maximum  minimum2  maximum2 minimumMatch? maximumMatch?\n",
      "EX_co2_e       19.68    19.68    -43.74     60.00         False         False\n",
      "EX_glc__D_e   -10.00   -10.00    -10.00     -0.13          True         False\n",
      "EX_glcn_e       0.00     0.00      0.00     10.00          True         False\n",
      "EX_glu__L_e     0.00     0.00      0.00     11.94          True         False\n",
      "DM_5drib_c      0.00     0.00      0.00      2.16          True         False\n",
      "...              ...      ...       ...       ...           ...           ...\n",
      "DURAD          -0.00     0.00   -508.70      0.00         False          True\n",
      "CLIPAt1ex      -0.00     0.00      0.00      0.40          True         False\n",
      "CLIPAt2ex       0.00     0.00      0.00      0.40          True         False\n",
      "PYRDC           0.00     7.97      0.00    518.70          True         False\n",
      "XTSNH_copy2     0.00     0.00      0.00    115.93          True         False\n",
      "\n",
      "[1414 rows x 6 columns]\n"
     ]
    }
   ],
   "source": [
    "df1 = pd.DataFrame(b,columns= ['minimum', 'maximum'])\n",
    "df2 = pd.DataFrame(c,columns= ['minimum', 'maximum'])\n",
    "\n",
    "df1['minimum2'] = df2['minimum']\n",
    "df1['maximum2'] = df2['maximum']\n",
    "\n",
    "\n",
    "test_df = df1.copy()\n",
    "\n",
    "changing_columns = ['minimum', 'maximum', 'minimum2', 'maximum2']\n",
    "dp = 2\n",
    "\n",
    "for i in changing_columns:\n",
    "    test_df[i] = np.around(test_df[i], decimals=dp)\n",
    "\n",
    "test_df['minimumMatch?'] = np.where(test_df['minimum'] == test_df['minimum2'], 'True', 'False')\n",
    "test_df['maximumMatch?'] = np.where(test_df['maximum'] == test_df['maximum2'], 'True', 'False')\n",
    "test_df\n",
    "\n",
    "\n",
    "select_differences = test_df.loc[(test_df['minimumMatch?'] == 'False') | (test_df['maximumMatch?'] == 'False')]\n",
    "print (select_differences)\n"
   ]
  },
  {
   "cell_type": "code",
   "execution_count": null,
   "id": "vietnamese-outdoors",
   "metadata": {},
   "outputs": [],
   "source": []
  }
 ],
 "metadata": {
  "kernelspec": {
   "display_name": "Python 3",
   "language": "python",
   "name": "python3"
  },
  "language_info": {
   "codemirror_mode": {
    "name": "ipython",
    "version": 3
   },
   "file_extension": ".py",
   "mimetype": "text/x-python",
   "name": "python",
   "nbconvert_exporter": "python",
   "pygments_lexer": "ipython3",
   "version": "3.8.3"
  }
 },
 "nbformat": 4,
 "nbformat_minor": 5
}
